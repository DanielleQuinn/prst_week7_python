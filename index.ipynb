{
 "cells": [
  {
   "cell_type": "markdown",
   "metadata": {},
   "source": [
    "# Sentiment Analysis\n",
    "---\n",
    "\n",
    "**Creator**: Gokhan Yildirim <br>\n",
    "**Python Translator**: Lilian Cheung\n",
    "\n",
    "*Time: 30 minutes*"
   ]
  },
  {
   "cell_type": "markdown",
   "metadata": {},
   "source": [
    "# Background  \n",
    "\n",
    "Companies often use text data collected from customer reviews of their products to gain insight into their emotions and behaviors and then act on that knowledge. Today we will be exploring the emotional content of customer reviews for a particular watch sold on Amazon.\n",
    "\n",
    "### Analytical Objective(s)  \n",
    "We will apply a sentiment analysis to the customer reviews of this product, starting by conducting a text mining algorithm.  \n",
    "\n",
    "### Analysis Outline\n",
    "\n",
    "We will implement the sentiment analysis in three steps: \n",
    "\n",
    "1\\. Prepare the text data from the reviews by splitting them up into individual words. \n",
    "\n",
    "2\\. Apply a sentiment analysis to classify the words as being associated with a *positive* or *negative* emotion.\n",
    "\n",
    "3\\. Create data visualizations of these sentiments to learn more about the customers attitudes toward the product.  "
   ]
  },
  {
   "cell_type": "markdown",
   "metadata": {},
   "source": [
    "# Before You Begin  \n",
    "\n",
    "Before attempting this assignment using Python you must complete the following steps:\n",
    "\n",
    "1\\. **Install the `nltk`, `pandas`, `numpy`, `string`, `re`, `matplotlib`, `pydata`, `plotnine`, `wordcloud`, and `IPython` packages to your computer, if you have not already done so:**  \n",
    "\n",
    "   * (a) Open Anaconda Navigator on your computer  \n",
    "   * (b) Open the CMD.exe Prompt by clicking \"Launch\" on the appropriate tile  \n",
    "   * (c) When the terminal window appears, install each package into your environment by running one of the following commands for each package in your terminal. Replace `<package-name>` with the name of the package you want to install, e.g., `pandas`.\n",
    "\n",
    "`pip install <package-name>` for installation via pip ([Information on pip](https://packaging.python.org/tutorials/installing-packages/))  \n",
    "\n",
    "*or*\n",
    "\n",
    "`conda install <package-name>` for installation via Anaconda. This assumes that you are running Python through Anaconda ([Information on installing conda packages](https://docs.anaconda.com/anaconda/user-guide/tasks/install-packages/))\n",
    "\n",
    "2\\. **Download the required materials from Section 7.9 on Insendi.** This will include:  \n",
    "  * `sentiment_analysis.ipynb` - the notebook file that is opened using Jupyter Notebook and allows you to perform the analysis in real time by running each piece of code  \n",
    "  * `sentiment_analysis.html` - a file that displays the analysis and code as a html document\n",
    "  * `reviews.xlsx` - an Excel file containing the customer review data\n",
    "  \n",
    "3\\. **Unzip and save these files to a folder on your computer that is easy to find.**  \n",
    "\n",
    "4\\. **Open the `sentiment_analysis.ipynb` notebook:**  \n",
    "\n",
    "   * (a) Open Anaconda Navigator on your computer  \n",
    "   * (b) Open Jupyter Notebook by clicking \"Launch\" on the appropriate tile  \n",
    "   * (c) When the browser window opens, use it to navigate to the folder where you have saved the downloaded files  \n",
    "   * (d) Click the `sentiment_analysis.ipynb` file to open it in a Jupyter Notebook  "
   ]
  },
  {
   "cell_type": "markdown",
   "metadata": {},
   "source": [
    "# Prepare Your Workspace  \n",
    "\n",
    "1\\. **Import the required libraries and functions**.  "
   ]
  },
  {
   "cell_type": "code",
   "execution_count": 1,
   "metadata": {},
   "outputs": [
    {
     "name": "stderr",
     "output_type": "stream",
     "text": [
      "[nltk_data] Downloading package punkt to\n",
      "[nltk_data]     C:\\Users\\Danielle\\AppData\\Roaming\\nltk_data...\n",
      "[nltk_data]   Package punkt is already up-to-date!\n",
      "[nltk_data] Downloading package opinion_lexicon to\n",
      "[nltk_data]     C:\\Users\\Danielle\\AppData\\Roaming\\nltk_data...\n",
      "[nltk_data]   Package opinion_lexicon is already up-to-date!\n"
     ]
    },
    {
     "data": {
      "text/plain": [
       "True"
      ]
     },
     "execution_count": 1,
     "metadata": {},
     "output_type": "execute_result"
    }
   ],
   "source": [
    "import nltk\n",
    "import pandas as pd\n",
    "import numpy as np\n",
    "import string\n",
    "import re\n",
    "import matplotlib.pyplot as plt\n",
    "\n",
    "from pydata import *\n",
    "from plotnine import *\n",
    "\n",
    "from nltk import word_tokenize, punkt\n",
    "from nltk.corpus import stopwords\n",
    "from nltk.corpus import opinion_lexicon\n",
    "\n",
    "from wordcloud import WordCloud, get_single_color_func\n",
    "\n",
    "from IPython.display import display, HTML\n",
    "\n",
    "nltk.download('punkt')\n",
    "nltk.download('opinion_lexicon')"
   ]
  },
  {
   "cell_type": "markdown",
   "metadata": {},
   "source": [
    "2\\. **Import the data** found in `review.xlsx` by calling the function `read_excel` from the `pandas` library, which we have called `pd`. We will store the data in a local variable which we will call `review_data`."
   ]
  },
  {
   "cell_type": "code",
   "execution_count": 2,
   "metadata": {},
   "outputs": [],
   "source": [
    "# Import the data\n",
    "review_data = pd.read_excel('reviews.xlsx')"
   ]
  },
  {
   "cell_type": "markdown",
   "metadata": {},
   "source": [
    "# Explore the Data\n",
    "\n",
    "The data used in this analysis is an Excel file with 2 columns: \n",
    "\n",
    "* `customer` - a customer identification number  \n",
    "* `review` - the text review from the customer\n",
    "\n",
    "The data has been imported as a *data frame*. You can use Python to explore the attributes of a data frame, such as `shape`, which tells you how many rows and columns the data frame contains. "
   ]
  },
  {
   "cell_type": "code",
   "execution_count": 3,
   "metadata": {},
   "outputs": [
    {
     "data": {
      "text/plain": [
       "(30, 2)"
      ]
     },
     "execution_count": 3,
     "metadata": {},
     "output_type": "execute_result"
    }
   ],
   "source": [
    "# How many rows and columns?\n",
    "review_data.shape"
   ]
  },
  {
   "cell_type": "markdown",
   "metadata": {},
   "source": [
    "You can also apply a function of the data frame; for instance, using the `head()` function will print the first five rows."
   ]
  },
  {
   "cell_type": "code",
   "execution_count": 4,
   "metadata": {},
   "outputs": [
    {
     "data": {
      "text/html": [
       "<div>\n",
       "<style scoped>\n",
       "    .dataframe tbody tr th:only-of-type {\n",
       "        vertical-align: middle;\n",
       "    }\n",
       "\n",
       "    .dataframe tbody tr th {\n",
       "        vertical-align: top;\n",
       "    }\n",
       "\n",
       "    .dataframe thead th {\n",
       "        text-align: right;\n",
       "    }\n",
       "</style>\n",
       "<table border=\"1\" class=\"dataframe\">\n",
       "  <thead>\n",
       "    <tr style=\"text-align: right;\">\n",
       "      <th></th>\n",
       "      <th>customer</th>\n",
       "      <th>review</th>\n",
       "    </tr>\n",
       "  </thead>\n",
       "  <tbody>\n",
       "    <tr>\n",
       "      <th>0</th>\n",
       "      <td>1</td>\n",
       "      <td>holds the strap (see image). Noticed whilst sa...</td>\n",
       "    </tr>\n",
       "    <tr>\n",
       "      <th>1</th>\n",
       "      <td>2</td>\n",
       "      <td>This was my very first smart watch. I must say...</td>\n",
       "    </tr>\n",
       "    <tr>\n",
       "      <th>2</th>\n",
       "      <td>3</td>\n",
       "      <td>Really enjoy this watch. Set up is easy, at le...</td>\n",
       "    </tr>\n",
       "    <tr>\n",
       "      <th>3</th>\n",
       "      <td>4</td>\n",
       "      <td>A long time Android Wear user, my 3-year-old H...</td>\n",
       "    </tr>\n",
       "    <tr>\n",
       "      <th>4</th>\n",
       "      <td>5</td>\n",
       "      <td>Looked at the £299 Samsung Galaxy watch for a ...</td>\n",
       "    </tr>\n",
       "  </tbody>\n",
       "</table>\n",
       "</div>"
      ],
      "text/plain": [
       "   customer                                             review\n",
       "0         1  holds the strap (see image). Noticed whilst sa...\n",
       "1         2  This was my very first smart watch. I must say...\n",
       "2         3  Really enjoy this watch. Set up is easy, at le...\n",
       "3         4  A long time Android Wear user, my 3-year-old H...\n",
       "4         5  Looked at the £299 Samsung Galaxy watch for a ..."
      ]
     },
     "execution_count": 4,
     "metadata": {},
     "output_type": "execute_result"
    }
   ],
   "source": [
    "# Print the first five rows\n",
    "review_data.head()"
   ]
  },
  {
   "cell_type": "markdown",
   "metadata": {},
   "source": [
    "You'll notice that the reviews are too long to properly display in the output. To read the complete text from the first review, use:"
   ]
  },
  {
   "cell_type": "code",
   "execution_count": 5,
   "metadata": {},
   "outputs": [
    {
     "data": {
      "text/html": [
       "<table border=\"1\" class=\"dataframe\">\n",
       "  <thead>\n",
       "    <tr style=\"text-align: right;\">\n",
       "      <th></th>\n",
       "      <th>customer</th>\n",
       "      <th>review</th>\n",
       "    </tr>\n",
       "  </thead>\n",
       "  <tbody>\n",
       "    <tr>\n",
       "      <th>0</th>\n",
       "      <td>1</td>\n",
       "      <td>holds the strap (see image). Noticed whilst sat watching movie when the watch simply slipped off my wrist. Contacted Huawei support and advised to send the watch to their Service Centre. After a week I received by post an invoice to repair the watch for £330 as it had \"Physical Damage\". (You can buy a new one on Amazon for £180!) What the ....\\nI called Huawei support and raised a complaint as in no way had I damaged the watch. After another week, Huawei called me back and advised that as it had \"Physical Damage\" it was not covered by their warranty and is their \"Final Decision\". The faulty watch is currently on its way back to me... I loved the product but really let down by the company and their assertion that all faults are caused by their customers. Will I buy Huawei again? Probably but I am really am not happy how they treat their customers. I guess companies only show their true colours when something goes wrong (an area Apple shines right?). Shame on you Huawei...</td>\n",
       "    </tr>\n",
       "  </tbody>\n",
       "</table>"
      ],
      "text/plain": [
       "<IPython.core.display.HTML object>"
      ]
     },
     "metadata": {},
     "output_type": "display_data"
    }
   ],
   "source": [
    "# Print the complete text from the first review\n",
    "display(HTML((review_data[0:1].to_html())))"
   ]
  },
  {
   "cell_type": "markdown",
   "metadata": {},
   "source": [
    "# Data Preparation\n",
    "\n",
    "To prepare the data for analysis, we will need to accomplish three tasks:  \n",
    "\n",
    "1\\. Normalize the text  \n",
    "2\\. Tokenize the data  \n",
    "3\\. Exclude stopwords  \n",
    "\n",
    "*Note:* If you have also worked through this analysis in R, you will notice that we are applying an extra step here. This is due to slight diffrences in how R and Python implement some of these processes and are relatively minor.  \n",
    "\n"
   ]
  },
  {
   "cell_type": "markdown",
   "metadata": {},
   "source": [
    "### Normalize the Data\n",
    "\n",
    "We will start by normalizing the text data by removing punctuation and transforming uppercase characters to lowercase characters. We will define (build) a custom function in Python that we'll call `normalize_string`.  "
   ]
  },
  {
   "cell_type": "code",
   "execution_count": 6,
   "metadata": {},
   "outputs": [],
   "source": [
    "# Define new function called normalize_string\n",
    "def normalize_string(input_string: str):\n",
    "    \"\"\"\n",
    "    Take an input string, remove all punctuation, and turn all characters into lowercase characters\n",
    "    \n",
    "    :param input_string: Input string\n",
    "    :return: normalized output_string \n",
    "    \"\"\"\n",
    "    output_string = input_string.translate(str.maketrans('', '', string.punctuation))\n",
    "    output_string = output_string.lower()\n",
    "    return output_string"
   ]
  },
  {
   "cell_type": "markdown",
   "metadata": {},
   "source": [
    "Now we can apply our new function to the review data and transform it. We will store this normalized data in a new variable called `normalized_review`.  "
   ]
  },
  {
   "cell_type": "code",
   "execution_count": 7,
   "metadata": {},
   "outputs": [],
   "source": [
    "# Normalize the data\n",
    "normalized_review = (review_data\n",
    "    .assign(review = review_data['review'].apply(lambda review: normalize_string(review))))"
   ]
  },
  {
   "cell_type": "code",
   "execution_count": 8,
   "metadata": {},
   "outputs": [
    {
     "data": {
      "text/html": [
       "<div>\n",
       "<style scoped>\n",
       "    .dataframe tbody tr th:only-of-type {\n",
       "        vertical-align: middle;\n",
       "    }\n",
       "\n",
       "    .dataframe tbody tr th {\n",
       "        vertical-align: top;\n",
       "    }\n",
       "\n",
       "    .dataframe thead th {\n",
       "        text-align: right;\n",
       "    }\n",
       "</style>\n",
       "<table border=\"1\" class=\"dataframe\">\n",
       "  <thead>\n",
       "    <tr style=\"text-align: right;\">\n",
       "      <th></th>\n",
       "      <th>customer</th>\n",
       "      <th>review</th>\n",
       "    </tr>\n",
       "  </thead>\n",
       "  <tbody>\n",
       "    <tr>\n",
       "      <th>0</th>\n",
       "      <td>1</td>\n",
       "      <td>holds the strap see image noticed whilst sat w...</td>\n",
       "    </tr>\n",
       "    <tr>\n",
       "      <th>1</th>\n",
       "      <td>2</td>\n",
       "      <td>this was my very first smart watch i must say ...</td>\n",
       "    </tr>\n",
       "    <tr>\n",
       "      <th>2</th>\n",
       "      <td>3</td>\n",
       "      <td>really enjoy this watch set up is easy at leas...</td>\n",
       "    </tr>\n",
       "    <tr>\n",
       "      <th>3</th>\n",
       "      <td>4</td>\n",
       "      <td>a long time android wear user my 3yearold hw1 ...</td>\n",
       "    </tr>\n",
       "    <tr>\n",
       "      <th>4</th>\n",
       "      <td>5</td>\n",
       "      <td>looked at the £299 samsung galaxy watch for a ...</td>\n",
       "    </tr>\n",
       "  </tbody>\n",
       "</table>\n",
       "</div>"
      ],
      "text/plain": [
       "   customer                                             review\n",
       "0         1  holds the strap see image noticed whilst sat w...\n",
       "1         2  this was my very first smart watch i must say ...\n",
       "2         3  really enjoy this watch set up is easy at leas...\n",
       "3         4  a long time android wear user my 3yearold hw1 ...\n",
       "4         5  looked at the £299 samsung galaxy watch for a ..."
      ]
     },
     "execution_count": 8,
     "metadata": {},
     "output_type": "execute_result"
    }
   ],
   "source": [
    "# Look at the first five rows of normalized_review\n",
    "normalized_review.head()"
   ]
  },
  {
   "cell_type": "markdown",
   "metadata": {},
   "source": [
    "### Tokenize the Data  \n",
    "\n",
    "At the moment, each review is stored as a single, long, character string. Instead, we want to \"tokenize the data\", meaning we will split each review up into individual words. The result will be a restructured data set with one token (word) per row. This can be done in Python using the `word_tokenize()` function from the `nltk` package. We will store this tokenized data in a new variable called `tokenized_review`.  "
   ]
  },
  {
   "cell_type": "code",
   "execution_count": 9,
   "metadata": {},
   "outputs": [],
   "source": [
    "# Tokenize the normalized data\n",
    "tokenized_review = (normalized_review\n",
    "                   .assign(review = normalized_review['review'].apply(lambda review: word_tokenize(review)))\n",
    "                   .explode('review')\n",
    "                   .reset_index(drop = True))"
   ]
  },
  {
   "cell_type": "code",
   "execution_count": 10,
   "metadata": {},
   "outputs": [
    {
     "data": {
      "text/html": [
       "<div>\n",
       "<style scoped>\n",
       "    .dataframe tbody tr th:only-of-type {\n",
       "        vertical-align: middle;\n",
       "    }\n",
       "\n",
       "    .dataframe tbody tr th {\n",
       "        vertical-align: top;\n",
       "    }\n",
       "\n",
       "    .dataframe thead th {\n",
       "        text-align: right;\n",
       "    }\n",
       "</style>\n",
       "<table border=\"1\" class=\"dataframe\">\n",
       "  <thead>\n",
       "    <tr style=\"text-align: right;\">\n",
       "      <th></th>\n",
       "      <th>customer</th>\n",
       "      <th>review</th>\n",
       "    </tr>\n",
       "  </thead>\n",
       "  <tbody>\n",
       "    <tr>\n",
       "      <th>0</th>\n",
       "      <td>1</td>\n",
       "      <td>holds</td>\n",
       "    </tr>\n",
       "    <tr>\n",
       "      <th>1</th>\n",
       "      <td>1</td>\n",
       "      <td>the</td>\n",
       "    </tr>\n",
       "    <tr>\n",
       "      <th>2</th>\n",
       "      <td>1</td>\n",
       "      <td>strap</td>\n",
       "    </tr>\n",
       "    <tr>\n",
       "      <th>3</th>\n",
       "      <td>1</td>\n",
       "      <td>see</td>\n",
       "    </tr>\n",
       "    <tr>\n",
       "      <th>4</th>\n",
       "      <td>1</td>\n",
       "      <td>image</td>\n",
       "    </tr>\n",
       "  </tbody>\n",
       "</table>\n",
       "</div>"
      ],
      "text/plain": [
       "   customer review\n",
       "0         1  holds\n",
       "1         1    the\n",
       "2         1  strap\n",
       "3         1    see\n",
       "4         1  image"
      ]
     },
     "execution_count": 10,
     "metadata": {},
     "output_type": "execute_result"
    }
   ],
   "source": [
    "# Look at the first five rows of tokenized data\n",
    "tokenized_review.head()"
   ]
  },
  {
   "cell_type": "markdown",
   "metadata": {},
   "source": [
    "### Exclude Stopwords  \n",
    "\n",
    "Stopwords are words that should be filtered out when applying natural language processing analyses, like the one we are doing here. This includes words that don't provide any meaningful insight, such as \"the\", \"is\", and \"of\".\n",
    "\n",
    "This is important because we are going to be interested in what words appear most frequently in the data. Without removing stopwords, our most common words will look like this:\n"
   ]
  },
  {
   "cell_type": "code",
   "execution_count": 11,
   "metadata": {},
   "outputs": [
    {
     "data": {
      "text/html": [
       "<div>\n",
       "<style scoped>\n",
       "    .dataframe tbody tr th:only-of-type {\n",
       "        vertical-align: middle;\n",
       "    }\n",
       "\n",
       "    .dataframe tbody tr th {\n",
       "        vertical-align: top;\n",
       "    }\n",
       "\n",
       "    .dataframe thead th {\n",
       "        text-align: right;\n",
       "    }\n",
       "</style>\n",
       "<table border=\"1\" class=\"dataframe\">\n",
       "  <thead>\n",
       "    <tr style=\"text-align: right;\">\n",
       "      <th></th>\n",
       "      <th>count</th>\n",
       "    </tr>\n",
       "    <tr>\n",
       "      <th>review</th>\n",
       "      <th></th>\n",
       "    </tr>\n",
       "  </thead>\n",
       "  <tbody>\n",
       "    <tr>\n",
       "      <th>the</th>\n",
       "      <td>333</td>\n",
       "    </tr>\n",
       "    <tr>\n",
       "      <th>to</th>\n",
       "      <td>207</td>\n",
       "    </tr>\n",
       "    <tr>\n",
       "      <th>and</th>\n",
       "      <td>197</td>\n",
       "    </tr>\n",
       "    <tr>\n",
       "      <th>a</th>\n",
       "      <td>175</td>\n",
       "    </tr>\n",
       "    <tr>\n",
       "      <th>i</th>\n",
       "      <td>167</td>\n",
       "    </tr>\n",
       "    <tr>\n",
       "      <th>it</th>\n",
       "      <td>154</td>\n",
       "    </tr>\n",
       "    <tr>\n",
       "      <th>watch</th>\n",
       "      <td>143</td>\n",
       "    </tr>\n",
       "    <tr>\n",
       "      <th>is</th>\n",
       "      <td>112</td>\n",
       "    </tr>\n",
       "    <tr>\n",
       "      <th>for</th>\n",
       "      <td>83</td>\n",
       "    </tr>\n",
       "  </tbody>\n",
       "</table>\n",
       "</div>"
      ],
      "text/plain": [
       "        count\n",
       "review       \n",
       "the       333\n",
       "to        207\n",
       "and       197\n",
       "a         175\n",
       "i         167\n",
       "it        154\n",
       "watch     143\n",
       "is        112\n",
       "for        83"
      ]
     },
     "execution_count": 11,
     "metadata": {},
     "output_type": "execute_result"
    }
   ],
   "source": [
    "# Count how many times each word appears and print the top 10\n",
    "(tokenized_review\n",
    " .rename({'customer': 'count'}, axis = 1)\n",
    " .groupby('review')\n",
    " .count()\n",
    " .sort_values('count', ascending = False)\n",
    " [0:9])"
   ]
  },
  {
   "cell_type": "markdown",
   "metadata": {},
   "source": [
    "As you can see, the words \"the\", \"to\", \"and\", and \"a\" are the most commonly used words. However, these words are not helpful for understanding the emotions of the customers. The `nltk` package provides us with a list of English stopwords that should be filtered out."
   ]
  },
  {
   "cell_type": "code",
   "execution_count": 12,
   "metadata": {},
   "outputs": [
    {
     "data": {
      "text/plain": [
       "['i', 'me', 'my', 'myself', 'we']"
      ]
     },
     "execution_count": 12,
     "metadata": {},
     "output_type": "execute_result"
    }
   ],
   "source": [
    "# Examples of stopwords in English\n",
    "stopwords.words('english')[0:5]"
   ]
  },
  {
   "cell_type": "markdown",
   "metadata": {},
   "source": [
    "We can apply the code below to remove these stopwords words from our data. We will store the results of this process in an object called `cleaned_review`.  \n",
    "\n",
    "*Note:* If you have also worked through this analysis in R, you may notice minor differences in the output. This is because the stopwords in the `nltk` package are slightly different than the ones used in the R analysis.  "
   ]
  },
  {
   "cell_type": "code",
   "execution_count": 13,
   "metadata": {},
   "outputs": [],
   "source": [
    "# Exclude stopwords\n",
    "cleaned_review = tokenized_review[~tokenized_review['review'].isin(stopwords.words(\"english\"))]"
   ]
  },
  {
   "cell_type": "code",
   "execution_count": 14,
   "metadata": {},
   "outputs": [
    {
     "data": {
      "text/html": [
       "<div>\n",
       "<style scoped>\n",
       "    .dataframe tbody tr th:only-of-type {\n",
       "        vertical-align: middle;\n",
       "    }\n",
       "\n",
       "    .dataframe tbody tr th {\n",
       "        vertical-align: top;\n",
       "    }\n",
       "\n",
       "    .dataframe thead th {\n",
       "        text-align: right;\n",
       "    }\n",
       "</style>\n",
       "<table border=\"1\" class=\"dataframe\">\n",
       "  <thead>\n",
       "    <tr style=\"text-align: right;\">\n",
       "      <th></th>\n",
       "      <th>count</th>\n",
       "    </tr>\n",
       "    <tr>\n",
       "      <th>review</th>\n",
       "      <th></th>\n",
       "    </tr>\n",
       "  </thead>\n",
       "  <tbody>\n",
       "    <tr>\n",
       "      <th>watch</th>\n",
       "      <td>143</td>\n",
       "    </tr>\n",
       "    <tr>\n",
       "      <th>phone</th>\n",
       "      <td>31</td>\n",
       "    </tr>\n",
       "    <tr>\n",
       "      <th>huawei</th>\n",
       "      <td>29</td>\n",
       "    </tr>\n",
       "    <tr>\n",
       "      <th>battery</th>\n",
       "      <td>29</td>\n",
       "    </tr>\n",
       "    <tr>\n",
       "      <th>screen</th>\n",
       "      <td>27</td>\n",
       "    </tr>\n",
       "    <tr>\n",
       "      <th>use</th>\n",
       "      <td>27</td>\n",
       "    </tr>\n",
       "    <tr>\n",
       "      <th>good</th>\n",
       "      <td>26</td>\n",
       "    </tr>\n",
       "    <tr>\n",
       "      <th>like</th>\n",
       "      <td>25</td>\n",
       "    </tr>\n",
       "    <tr>\n",
       "      <th>wear</th>\n",
       "      <td>24</td>\n",
       "    </tr>\n",
       "    <tr>\n",
       "      <th>day</th>\n",
       "      <td>22</td>\n",
       "    </tr>\n",
       "  </tbody>\n",
       "</table>\n",
       "</div>"
      ],
      "text/plain": [
       "         count\n",
       "review        \n",
       "watch      143\n",
       "phone       31\n",
       "huawei      29\n",
       "battery     29\n",
       "screen      27\n",
       "use         27\n",
       "good        26\n",
       "like        25\n",
       "wear        24\n",
       "day         22"
      ]
     },
     "execution_count": 14,
     "metadata": {},
     "output_type": "execute_result"
    }
   ],
   "source": [
    "# Count how many times each word appears and print the top 10\n",
    "(cleaned_review\n",
    " .rename({'customer': 'count'}, axis = 1)\n",
    " .groupby('review')\n",
    " .count()\n",
    " .sort_values('count', ascending = False)\n",
    " [0:10])"
   ]
  },
  {
   "cell_type": "markdown",
   "metadata": {},
   "source": [
    "# Sentiment Analysis\n",
    "\n",
    "The goal here is to assign a score to each word that represents the *sentiment* being expressed. There are various lexica available to assign these scores; here we will use one developed by Bing Liu and collaborators (see *Additional Resources* at the bottom of this page). Sentiment lexica can be accessed in Python through the `opinion_lexicon` from `nltk`. We can use this information to add a new column to our cleaned review data that will indicate whether each word used in the customer reviews is classified as positive or negative according to the lexicon. We will store this updated data in an object called `complete_review`.  "
   ]
  },
  {
   "cell_type": "code",
   "execution_count": 15,
   "metadata": {
    "scrolled": true
   },
   "outputs": [
    {
     "data": {
      "text/html": [
       "<div>\n",
       "<style scoped>\n",
       "    .dataframe tbody tr th:only-of-type {\n",
       "        vertical-align: middle;\n",
       "    }\n",
       "\n",
       "    .dataframe tbody tr th {\n",
       "        vertical-align: top;\n",
       "    }\n",
       "\n",
       "    .dataframe thead th {\n",
       "        text-align: right;\n",
       "    }\n",
       "</style>\n",
       "<table border=\"1\" class=\"dataframe\">\n",
       "  <thead>\n",
       "    <tr style=\"text-align: right;\">\n",
       "      <th></th>\n",
       "      <th>customer</th>\n",
       "      <th>review</th>\n",
       "      <th>sentiment</th>\n",
       "    </tr>\n",
       "  </thead>\n",
       "  <tbody>\n",
       "    <tr>\n",
       "      <th>0</th>\n",
       "      <td>1</td>\n",
       "      <td>holds</td>\n",
       "      <td>neutral</td>\n",
       "    </tr>\n",
       "    <tr>\n",
       "      <th>2</th>\n",
       "      <td>1</td>\n",
       "      <td>strap</td>\n",
       "      <td>neutral</td>\n",
       "    </tr>\n",
       "    <tr>\n",
       "      <th>3</th>\n",
       "      <td>1</td>\n",
       "      <td>see</td>\n",
       "      <td>neutral</td>\n",
       "    </tr>\n",
       "    <tr>\n",
       "      <th>4</th>\n",
       "      <td>1</td>\n",
       "      <td>image</td>\n",
       "      <td>neutral</td>\n",
       "    </tr>\n",
       "    <tr>\n",
       "      <th>5</th>\n",
       "      <td>1</td>\n",
       "      <td>noticed</td>\n",
       "      <td>neutral</td>\n",
       "    </tr>\n",
       "  </tbody>\n",
       "</table>\n",
       "</div>"
      ],
      "text/plain": [
       "   customer   review sentiment\n",
       "0         1    holds   neutral\n",
       "2         1    strap   neutral\n",
       "3         1      see   neutral\n",
       "4         1    image   neutral\n",
       "5         1  noticed   neutral"
      ]
     },
     "execution_count": 15,
     "metadata": {},
     "output_type": "execute_result"
    }
   ],
   "source": [
    "# Initialize the sentiment column with 'neutral'\n",
    "complete_review = cleaned_review.assign(sentiment = 'neutral')\n",
    "\n",
    "# Classify a word as 'positive' if it appears in the list of positive words\n",
    "complete_review.loc[complete_review['review'].isin(opinion_lexicon.positive()), ['sentiment']] = 'positive'\n",
    "\n",
    "# Classify a word as 'negative if it appears in the list of negative words\n",
    "complete_review.loc[complete_review.copy()['review'].isin(opinion_lexicon.negative()), ['sentiment']] = 'negative'\n",
    "\n",
    "# Look at the first five rows of the complete review data\n",
    "complete_review.head()"
   ]
  },
  {
   "cell_type": "markdown",
   "metadata": {},
   "source": [
    "What are the most common *positive* words in the customer reviews? To find this, we can filter this data to only consider words that have been determined to be positive, and then count the number of times each of those words appear.  "
   ]
  },
  {
   "cell_type": "code",
   "execution_count": 16,
   "metadata": {},
   "outputs": [
    {
     "data": {
      "text/html": [
       "<div>\n",
       "<style scoped>\n",
       "    .dataframe tbody tr th:only-of-type {\n",
       "        vertical-align: middle;\n",
       "    }\n",
       "\n",
       "    .dataframe tbody tr th {\n",
       "        vertical-align: top;\n",
       "    }\n",
       "\n",
       "    .dataframe thead th {\n",
       "        text-align: right;\n",
       "    }\n",
       "</style>\n",
       "<table border=\"1\" class=\"dataframe\">\n",
       "  <thead>\n",
       "    <tr style=\"text-align: right;\">\n",
       "      <th></th>\n",
       "      <th>count</th>\n",
       "    </tr>\n",
       "    <tr>\n",
       "      <th>review</th>\n",
       "      <th></th>\n",
       "    </tr>\n",
       "  </thead>\n",
       "  <tbody>\n",
       "    <tr>\n",
       "      <th>good</th>\n",
       "      <td>26</td>\n",
       "    </tr>\n",
       "    <tr>\n",
       "      <th>like</th>\n",
       "      <td>25</td>\n",
       "    </tr>\n",
       "    <tr>\n",
       "      <th>great</th>\n",
       "      <td>17</td>\n",
       "    </tr>\n",
       "    <tr>\n",
       "      <th>easy</th>\n",
       "      <td>13</td>\n",
       "    </tr>\n",
       "    <tr>\n",
       "      <th>well</th>\n",
       "      <td>12</td>\n",
       "    </tr>\n",
       "    <tr>\n",
       "      <th>smart</th>\n",
       "      <td>11</td>\n",
       "    </tr>\n",
       "    <tr>\n",
       "      <th>pretty</th>\n",
       "      <td>8</td>\n",
       "    </tr>\n",
       "    <tr>\n",
       "      <th>enough</th>\n",
       "      <td>7</td>\n",
       "    </tr>\n",
       "    <tr>\n",
       "      <th>available</th>\n",
       "      <td>6</td>\n",
       "    </tr>\n",
       "    <tr>\n",
       "      <th>better</th>\n",
       "      <td>6</td>\n",
       "    </tr>\n",
       "  </tbody>\n",
       "</table>\n",
       "</div>"
      ],
      "text/plain": [
       "           count\n",
       "review          \n",
       "good          26\n",
       "like          25\n",
       "great         17\n",
       "easy          13\n",
       "well          12\n",
       "smart         11\n",
       "pretty         8\n",
       "enough         7\n",
       "available      6\n",
       "better         6"
      ]
     },
     "execution_count": 16,
     "metadata": {},
     "output_type": "execute_result"
    }
   ],
   "source": [
    "# Count how many times each positive word appears\n",
    "all_positive = (complete_review[['review', 'sentiment']]\n",
    " .query('sentiment == \"positive\"')\n",
    " .rename({'sentiment': 'count'}, axis = 1)\n",
    " .groupby('review')\n",
    " .count()\n",
    " .sort_values(['count', 'review'], \n",
    "              ascending = [False, True]))\n",
    "\n",
    "# Look at the 10 most common positive words\n",
    "all_positive[0:10]"
   ]
  },
  {
   "cell_type": "markdown",
   "metadata": {},
   "source": [
    "We can see that \"good\", \"like\", and \"great\" are the three most commonly used words with positive sentiment. Although positive sentiments are appreciated a lot by product managers, negative sentiments tend to be more informative and actionable.\n",
    "\n",
    "What are the most common *negative* words in the customer reviews?"
   ]
  },
  {
   "cell_type": "code",
   "execution_count": 17,
   "metadata": {},
   "outputs": [
    {
     "data": {
      "text/html": [
       "<div>\n",
       "<style scoped>\n",
       "    .dataframe tbody tr th:only-of-type {\n",
       "        vertical-align: middle;\n",
       "    }\n",
       "\n",
       "    .dataframe tbody tr th {\n",
       "        vertical-align: top;\n",
       "    }\n",
       "\n",
       "    .dataframe thead th {\n",
       "        text-align: right;\n",
       "    }\n",
       "</style>\n",
       "<table border=\"1\" class=\"dataframe\">\n",
       "  <thead>\n",
       "    <tr style=\"text-align: right;\">\n",
       "      <th></th>\n",
       "      <th>count</th>\n",
       "    </tr>\n",
       "    <tr>\n",
       "      <th>review</th>\n",
       "      <th></th>\n",
       "    </tr>\n",
       "  </thead>\n",
       "  <tbody>\n",
       "    <tr>\n",
       "      <th>problem</th>\n",
       "      <td>11</td>\n",
       "    </tr>\n",
       "    <tr>\n",
       "      <th>disappointed</th>\n",
       "      <td>6</td>\n",
       "    </tr>\n",
       "    <tr>\n",
       "      <th>issue</th>\n",
       "      <td>6</td>\n",
       "    </tr>\n",
       "    <tr>\n",
       "      <th>damage</th>\n",
       "      <td>5</td>\n",
       "    </tr>\n",
       "    <tr>\n",
       "      <th>fault</th>\n",
       "      <td>5</td>\n",
       "    </tr>\n",
       "    <tr>\n",
       "      <th>issues</th>\n",
       "      <td>4</td>\n",
       "    </tr>\n",
       "    <tr>\n",
       "      <th>wrong</th>\n",
       "      <td>4</td>\n",
       "    </tr>\n",
       "    <tr>\n",
       "      <th>annoying</th>\n",
       "      <td>3</td>\n",
       "    </tr>\n",
       "    <tr>\n",
       "      <th>broke</th>\n",
       "      <td>3</td>\n",
       "    </tr>\n",
       "    <tr>\n",
       "      <th>cheap</th>\n",
       "      <td>3</td>\n",
       "    </tr>\n",
       "  </tbody>\n",
       "</table>\n",
       "</div>"
      ],
      "text/plain": [
       "              count\n",
       "review             \n",
       "problem          11\n",
       "disappointed      6\n",
       "issue             6\n",
       "damage            5\n",
       "fault             5\n",
       "issues            4\n",
       "wrong             4\n",
       "annoying          3\n",
       "broke             3\n",
       "cheap             3"
      ]
     },
     "execution_count": 17,
     "metadata": {},
     "output_type": "execute_result"
    }
   ],
   "source": [
    "# Count how many times each positive word appears\n",
    "all_negative = (complete_review[['review', 'sentiment']]\n",
    " .query('sentiment == \"negative\"')\n",
    " .rename({'sentiment': 'count'}, axis = 1)\n",
    " .groupby('review')\n",
    " .count()\n",
    " .sort_values(['count', 'review'], \n",
    "              ascending = [False, True]))\n",
    "\n",
    "# Look at the 10 most common positive words\n",
    "all_negative[0:10]"
   ]
  },
  {
   "cell_type": "markdown",
   "metadata": {},
   "source": [
    "We can see that \"problem\", \"disappointed\", and \"issue\" are the three most commonly used words with negative sentiment. "
   ]
  },
  {
   "cell_type": "markdown",
   "metadata": {},
   "source": [
    "We can combine these results to create a table of all of the words found in the complete review data, whether it is positive or negative, and how often it was used. This overall table can be used to create interesting and insightful *data visualizations*. We will store these results in an object called `results_table`.  \n"
   ]
  },
  {
   "cell_type": "code",
   "execution_count": 18,
   "metadata": {},
   "outputs": [
    {
     "data": {
      "text/html": [
       "<div>\n",
       "<style scoped>\n",
       "    .dataframe tbody tr th:only-of-type {\n",
       "        vertical-align: middle;\n",
       "    }\n",
       "\n",
       "    .dataframe tbody tr th {\n",
       "        vertical-align: top;\n",
       "    }\n",
       "\n",
       "    .dataframe thead th {\n",
       "        text-align: right;\n",
       "    }\n",
       "</style>\n",
       "<table border=\"1\" class=\"dataframe\">\n",
       "  <thead>\n",
       "    <tr style=\"text-align: right;\">\n",
       "      <th></th>\n",
       "      <th>review</th>\n",
       "      <th>count</th>\n",
       "      <th>sentiment</th>\n",
       "    </tr>\n",
       "  </thead>\n",
       "  <tbody>\n",
       "    <tr>\n",
       "      <th>0</th>\n",
       "      <td>good</td>\n",
       "      <td>26</td>\n",
       "      <td>positive</td>\n",
       "    </tr>\n",
       "    <tr>\n",
       "      <th>1</th>\n",
       "      <td>like</td>\n",
       "      <td>25</td>\n",
       "      <td>positive</td>\n",
       "    </tr>\n",
       "    <tr>\n",
       "      <th>2</th>\n",
       "      <td>great</td>\n",
       "      <td>17</td>\n",
       "      <td>positive</td>\n",
       "    </tr>\n",
       "    <tr>\n",
       "      <th>3</th>\n",
       "      <td>easy</td>\n",
       "      <td>13</td>\n",
       "      <td>positive</td>\n",
       "    </tr>\n",
       "    <tr>\n",
       "      <th>4</th>\n",
       "      <td>well</td>\n",
       "      <td>12</td>\n",
       "      <td>positive</td>\n",
       "    </tr>\n",
       "    <tr>\n",
       "      <th>5</th>\n",
       "      <td>smart</td>\n",
       "      <td>11</td>\n",
       "      <td>positive</td>\n",
       "    </tr>\n",
       "    <tr>\n",
       "      <th>107</th>\n",
       "      <td>problem</td>\n",
       "      <td>11</td>\n",
       "      <td>negative</td>\n",
       "    </tr>\n",
       "    <tr>\n",
       "      <th>6</th>\n",
       "      <td>pretty</td>\n",
       "      <td>8</td>\n",
       "      <td>positive</td>\n",
       "    </tr>\n",
       "    <tr>\n",
       "      <th>7</th>\n",
       "      <td>enough</td>\n",
       "      <td>7</td>\n",
       "      <td>positive</td>\n",
       "    </tr>\n",
       "    <tr>\n",
       "      <th>11</th>\n",
       "      <td>useful</td>\n",
       "      <td>6</td>\n",
       "      <td>positive</td>\n",
       "    </tr>\n",
       "  </tbody>\n",
       "</table>\n",
       "</div>"
      ],
      "text/plain": [
       "      review  count sentiment\n",
       "0       good     26  positive\n",
       "1       like     25  positive\n",
       "2      great     17  positive\n",
       "3       easy     13  positive\n",
       "4       well     12  positive\n",
       "5      smart     11  positive\n",
       "107  problem     11  negative\n",
       "6     pretty      8  positive\n",
       "7     enough      7  positive\n",
       "11    useful      6  positive"
      ]
     },
     "execution_count": 18,
     "metadata": {},
     "output_type": "execute_result"
    }
   ],
   "source": [
    "# Append counts of positive and negative sentiments\n",
    "results_table = (all_positive.assign(sentiment = 'positive')\n",
    " .append(all_negative.assign(sentiment = 'negative'))\n",
    " .reset_index(drop = False)\n",
    " .sort_values('count', ascending = False))\n",
    "\n",
    "# Look at the first ten rows\n",
    "results_table.head(10)"
   ]
  },
  {
   "cell_type": "markdown",
   "metadata": {},
   "source": [
    "# Data Visualization\n",
    "\n",
    "### Bar Charts  \n"
   ]
  },
  {
   "cell_type": "markdown",
   "metadata": {},
   "source": [
    "The `ggplot()` function from the `plotnine` package can be used to create high quality visualizations. We will apply several steps into a single chunk of code, below. First, we will simplify things by applying a filter to our results table and only consider words that were used more than 5 times. We will then give negative words a negative integer value to make it easier to visualize. The code below includes some additional data wrangling and plotting components, such as labelling the axes.  "
   ]
  },
  {
   "cell_type": "code",
   "execution_count": 19,
   "metadata": {},
   "outputs": [
    {
     "data": {
      "image/png": "[encoded data removed]",
      "text/plain": [
       "<Figure size 640x480 with 1 Axes>"
      ]
     },
     "metadata": {},
     "output_type": "display_data"
    },
    {
     "data": {
      "text/plain": [
       "<ggplot: (155486434928)>"
      ]
     },
     "execution_count": 19,
     "metadata": {},
     "output_type": "execute_result"
    }
   ],
   "source": [
    "# Filter the data and convert counts of negative words to negative values\n",
    "plot_data = (results_table\n",
    "            .assign(count = results_table.apply(\n",
    "     lambda row: row['count'] if row['sentiment'] == 'positive' else -row['count'],\n",
    "     axis = 1))\n",
    " .query('abs(count) > 5')\n",
    " .sort_values('count', ascending = True))\n",
    "\n",
    "# Define the word order by making 'review' a categorical variable\n",
    "plot_data['review'] = pd.Categorical(plot_data['review'], \n",
    "                                            categories = plot_data['review'].astype(\"string\"), \n",
    "                                            ordered = True)\n",
    "\n",
    "(ggplot(data = plot_data, \n",
    "        mapping = aes(x = 'review', y = 'count', fill = 'sentiment'))\n",
    "+ geom_col()\n",
    "+ coord_flip()\n",
    "+ labs(y = \"Contribution to Sentiment\", x = \"Word\", fill = \"Sentiment\"))"
   ]
  },
  {
   "cell_type": "markdown",
   "metadata": {},
   "source": [
    "From this bar chart we can see that \"good\" is the positive sentiment word with the highest contribution, while \"problem\" is the negative sentiment word with the highest contribution. \n",
    "\n",
    "### Word Clouds  \n",
    "\n",
    "Another way to visualize the results of the sentiment analysis is to create a word cloud. Word clouds are easy to comprehend for most readers, regardless of their backgrounds. They also tend to be more visually engaging than data presented in a table or barchart. We can use the `WordCloud()` function from the `wordcloud` package to accomplish this. Here, we will start by creating a word cloud of words found in the `cleaned_review` data; that is, the customer review data with the stopwords removed, but no sentiments associated with each word. \n"
   ]
  },
  {
   "cell_type": "code",
   "execution_count": 20,
   "metadata": {},
   "outputs": [
    {
     "data": {
      "image/png": "[encoded data removed]",
      "text/plain": [
       "<Figure size 432x432 with 1 Axes>"
      ]
     },
     "metadata": {
      "needs_background": "light"
     },
     "output_type": "display_data"
    }
   ],
   "source": [
    "# Plot size and axis settings\n",
    "plt.rcParams['figure.figsize'] = [6, 6]\n",
    "\n",
    "# Define tokens to include in the wordcloud\n",
    "wordcloud_tokens = cleaned_review['review'].to_list()\n",
    "\n",
    "# Join tokens into a body of text\n",
    "wordcloud_text = ' '.join(wordcloud_tokens)\n",
    "\n",
    "# Initialize a wordcloud, and generate a grayscale word cloud from the text\n",
    "wordcloud = WordCloud(width = 500, \n",
    "                      height = 500,\n",
    "                      max_words = 100,\n",
    "                      background_color = \"white\")\n",
    "wordcloud.generate(wordcloud_text)\n",
    "wordcloud.recolor(color_func = get_single_color_func('black'))\n",
    "\n",
    "# Define plot parameters\n",
    "plt.imshow(wordcloud, interpolation=\"bilinear\")\n",
    "plt.axis(\"off\")\n",
    "plt.show()"
   ]
  },
  {
   "cell_type": "markdown",
   "metadata": {},
   "source": [
    "The font size of each word is linked to how often it was found in the data, with more common words being displayed in a larger font. This word cloud demonstrates that “watch”, “battery”, “screen”, and “huawei”  are some of the most commonly used words in this sample of customer reviews.  \n",
    "\n",
    "Next, let's create a word cloud that uses the results of our sentiment analysis to visualize the most commonly used positive and negative words. We'll start by defining a custom function called `color_by_sentiment` that will assign the color \"salmon\" to negative words and the color \"skyblue\" to positive words."
   ]
  },
  {
   "cell_type": "code",
   "execution_count": 21,
   "metadata": {},
   "outputs": [],
   "source": [
    "def color_by_sentiment(word, \n",
    "                       negative_words = all_negative.index.to_list(), \n",
    "                       positive_words = all_positive.index.to_list(), \n",
    "                       *args,\n",
    "                       **kwargs):\n",
    "    \"\"\"\n",
    "    Define a custom color function to color positive and negative words in the wordcloud\n",
    "    \n",
    "    :param word: String\n",
    "    :param negative_words: List of negative terms\n",
    "    :param positive_words: List of positive terms\n",
    "    :param args: Other args passed to the function by wordcloud.recolor\n",
    "    :param kwargs: Other kwargs passed to the function by wordcloud.recolor\n",
    "    :return: Color\n",
    "    \"\"\"\n",
    "    if word in negative_words:\n",
    "        return 'salmon'\n",
    "    elif word in positive_words:\n",
    "        return 'skyblue'"
   ]
  },
  {
   "cell_type": "markdown",
   "metadata": {},
   "source": [
    "Finally, we will again use the `WordCloud()` function to create a word cloud using only those words that are associated with a positive or negative sentiment."
   ]
  },
  {
   "cell_type": "code",
   "execution_count": 23,
   "metadata": {},
   "outputs": [
    {
     "data": {
      "image/png": "[encoded data removed]",
      "text/plain": [
       "<Figure size 432x432 with 1 Axes>"
      ]
     },
     "metadata": {
      "needs_background": "light"
     },
     "output_type": "display_data"
    }
   ],
   "source": [
    "# Define words to include in the cloud, based on positive and negative sentiments only\n",
    "positive_and_negative_words = complete_review.query('sentiment == \"positive\" or sentiment == \"negative\"')\n",
    "positive_and_negative_words = positive_and_negative_words['review'].to_list()\n",
    "\n",
    "# Join tokens into a body of text\n",
    "wordcloud_text = ' '.join(positive_and_negative_words)\n",
    "\n",
    "# Initialize a wordcloud, and generate a wordcloud colored by positive vs. negative sentiments\n",
    "wordcloud = WordCloud(width = 500, \n",
    "                      height = 500,\n",
    "                      max_words = 100,\n",
    "                      background_color = \"white\")\n",
    "wordcloud.generate(wordcloud_text)\n",
    "wordcloud.recolor(color_func = color_by_sentiment)\n",
    "\n",
    "# Define plot parameters\n",
    "plt.imshow(wordcloud, interpolation=\"bilinear\")\n",
    "plt.axis(\"off\")\n",
    "plt.show()"
   ]
  },
  {
   "cell_type": "markdown",
   "metadata": {},
   "source": [
    "We can see that words with a positive sentiment are blue and words with a negative sentiment are red. The results from this cloud resonate with our previous conclusions: the most common positive word is \"good\", and the most common negative word is \"problem\".\n",
    "\n",
    "**Question**: Why do negative customer reviews matter for product managers?\n",
    "\n",
    "Product managers may want to focus on customer review(s) with the most negative sentiment. \n",
    "\n",
    "To do this, we can calculate the proportion of negative sentiment words in each customer review and find the customers with the highest proportion. Here we'll use our original tokenized data; that is, the stopwords have not been removed, nor have the neutral words.  "
   ]
  },
  {
   "cell_type": "code",
   "execution_count": 24,
   "metadata": {},
   "outputs": [
    {
     "data": {
      "text/html": [
       "<div>\n",
       "<style scoped>\n",
       "    .dataframe tbody tr th:only-of-type {\n",
       "        vertical-align: middle;\n",
       "    }\n",
       "\n",
       "    .dataframe tbody tr th {\n",
       "        vertical-align: top;\n",
       "    }\n",
       "\n",
       "    .dataframe thead th {\n",
       "        text-align: right;\n",
       "    }\n",
       "</style>\n",
       "<table border=\"1\" class=\"dataframe\">\n",
       "  <thead>\n",
       "    <tr style=\"text-align: right;\">\n",
       "      <th></th>\n",
       "      <th>total_words</th>\n",
       "    </tr>\n",
       "    <tr>\n",
       "      <th>customer</th>\n",
       "      <th></th>\n",
       "    </tr>\n",
       "  </thead>\n",
       "  <tbody>\n",
       "    <tr>\n",
       "      <th>1</th>\n",
       "      <td>179</td>\n",
       "    </tr>\n",
       "    <tr>\n",
       "      <th>2</th>\n",
       "      <td>657</td>\n",
       "    </tr>\n",
       "    <tr>\n",
       "      <th>3</th>\n",
       "      <td>104</td>\n",
       "    </tr>\n",
       "    <tr>\n",
       "      <th>4</th>\n",
       "      <td>258</td>\n",
       "    </tr>\n",
       "    <tr>\n",
       "      <th>5</th>\n",
       "      <td>185</td>\n",
       "    </tr>\n",
       "  </tbody>\n",
       "</table>\n",
       "</div>"
      ],
      "text/plain": [
       "          total_words\n",
       "customer             \n",
       "1                 179\n",
       "2                 657\n",
       "3                 104\n",
       "4                 258\n",
       "5                 185"
      ]
     },
     "execution_count": 24,
     "metadata": {},
     "output_type": "execute_result"
    }
   ],
   "source": [
    "# Count the total number of words per customer\n",
    "total_words_per_customer = (tokenized_review\n",
    " .groupby('customer')\n",
    " .count()\n",
    " .rename({'review': 'total_words'}, axis = 1))\n",
    "\n",
    "# Look at the first five rows\n",
    "total_words_per_customer.head()"
   ]
  },
  {
   "cell_type": "code",
   "execution_count": 25,
   "metadata": {},
   "outputs": [
    {
     "data": {
      "text/html": [
       "<div>\n",
       "<style scoped>\n",
       "    .dataframe tbody tr th:only-of-type {\n",
       "        vertical-align: middle;\n",
       "    }\n",
       "\n",
       "    .dataframe tbody tr th {\n",
       "        vertical-align: top;\n",
       "    }\n",
       "\n",
       "    .dataframe thead th {\n",
       "        text-align: right;\n",
       "    }\n",
       "</style>\n",
       "<table border=\"1\" class=\"dataframe\">\n",
       "  <thead>\n",
       "    <tr style=\"text-align: right;\">\n",
       "      <th></th>\n",
       "      <th>negative_words</th>\n",
       "    </tr>\n",
       "    <tr>\n",
       "      <th>customer</th>\n",
       "      <th></th>\n",
       "    </tr>\n",
       "  </thead>\n",
       "  <tbody>\n",
       "    <tr>\n",
       "      <th>1</th>\n",
       "      <td>8</td>\n",
       "    </tr>\n",
       "    <tr>\n",
       "      <th>2</th>\n",
       "      <td>20</td>\n",
       "    </tr>\n",
       "    <tr>\n",
       "      <th>3</th>\n",
       "      <td>1</td>\n",
       "    </tr>\n",
       "    <tr>\n",
       "      <th>4</th>\n",
       "      <td>7</td>\n",
       "    </tr>\n",
       "    <tr>\n",
       "      <th>5</th>\n",
       "      <td>4</td>\n",
       "    </tr>\n",
       "  </tbody>\n",
       "</table>\n",
       "</div>"
      ],
      "text/plain": [
       "          negative_words\n",
       "customer                \n",
       "1                      8\n",
       "2                     20\n",
       "3                      1\n",
       "4                      7\n",
       "5                      4"
      ]
     },
     "execution_count": 25,
     "metadata": {},
     "output_type": "execute_result"
    }
   ],
   "source": [
    "# Count the number of negative words per customer\n",
    "negative_words_per_customer = (complete_review[['customer', 'sentiment']]\n",
    " .query('sentiment == \"negative\"')\n",
    " .groupby('customer')\n",
    " .count()\n",
    " .rename({'sentiment': 'negative_words'}, axis = 1))\n",
    "\n",
    "# Look at the first five rows\n",
    "negative_words_per_customer.head()"
   ]
  },
  {
   "cell_type": "code",
   "execution_count": 26,
   "metadata": {},
   "outputs": [
    {
     "data": {
      "text/html": [
       "<div>\n",
       "<style scoped>\n",
       "    .dataframe tbody tr th:only-of-type {\n",
       "        vertical-align: middle;\n",
       "    }\n",
       "\n",
       "    .dataframe tbody tr th {\n",
       "        vertical-align: top;\n",
       "    }\n",
       "\n",
       "    .dataframe thead th {\n",
       "        text-align: right;\n",
       "    }\n",
       "</style>\n",
       "<table border=\"1\" class=\"dataframe\">\n",
       "  <thead>\n",
       "    <tr style=\"text-align: right;\">\n",
       "      <th></th>\n",
       "      <th>total_words</th>\n",
       "      <th>negative_words</th>\n",
       "      <th>ratio</th>\n",
       "    </tr>\n",
       "    <tr>\n",
       "      <th>customer</th>\n",
       "      <th></th>\n",
       "      <th></th>\n",
       "      <th></th>\n",
       "    </tr>\n",
       "  </thead>\n",
       "  <tbody>\n",
       "    <tr>\n",
       "      <th>15</th>\n",
       "      <td>29</td>\n",
       "      <td>4.0</td>\n",
       "      <td>0.137931</td>\n",
       "    </tr>\n",
       "    <tr>\n",
       "      <th>21</th>\n",
       "      <td>170</td>\n",
       "      <td>12.0</td>\n",
       "      <td>0.070588</td>\n",
       "    </tr>\n",
       "    <tr>\n",
       "      <th>19</th>\n",
       "      <td>95</td>\n",
       "      <td>6.0</td>\n",
       "      <td>0.063158</td>\n",
       "    </tr>\n",
       "    <tr>\n",
       "      <th>24</th>\n",
       "      <td>210</td>\n",
       "      <td>13.0</td>\n",
       "      <td>0.061905</td>\n",
       "    </tr>\n",
       "    <tr>\n",
       "      <th>16</th>\n",
       "      <td>67</td>\n",
       "      <td>4.0</td>\n",
       "      <td>0.059701</td>\n",
       "    </tr>\n",
       "  </tbody>\n",
       "</table>\n",
       "</div>"
      ],
      "text/plain": [
       "          total_words  negative_words     ratio\n",
       "customer                                       \n",
       "15                 29             4.0  0.137931\n",
       "21                170            12.0  0.070588\n",
       "19                 95             6.0  0.063158\n",
       "24                210            13.0  0.061905\n",
       "16                 67             4.0  0.059701"
      ]
     },
     "execution_count": 26,
     "metadata": {},
     "output_type": "execute_result"
    }
   ],
   "source": [
    "# Combine these two data frames\n",
    "results = (pd.concat([total_words_per_customer, negative_words_per_customer], axis = 1))\n",
    "\n",
    "# Calculate the ratio of negative words per customer and sort in descending order by ratio\n",
    "(results\n",
    " .assign(ratio = results.negative_words/results.total_words)\n",
    " .sort_values('ratio', ascending = False)\n",
    " .head())"
   ]
  },
  {
   "cell_type": "markdown",
   "metadata": {},
   "source": [
    "Here we find that customer number 15 is the customer with the highest proportion of negative sentiment. In a 29 word review, 4 words (13.8%) have been identified as having negative sentiment. You can examine the negativity by checking the original review:  "
   ]
  },
  {
   "cell_type": "code",
   "execution_count": 27,
   "metadata": {},
   "outputs": [
    {
     "data": {
      "text/html": [
       "<table border=\"1\" class=\"dataframe\">\n",
       "  <thead>\n",
       "    <tr style=\"text-align: right;\">\n",
       "      <th></th>\n",
       "      <th>customer</th>\n",
       "      <th>review</th>\n",
       "    </tr>\n",
       "  </thead>\n",
       "  <tbody>\n",
       "    <tr>\n",
       "      <th>14</th>\n",
       "      <td>15</td>\n",
       "      <td>Very sluggish, freezes and locks up when opening apps, very limited capabilities unless yuou change all your phone apps to the ones available for the watch. Can become unresponsive.</td>\n",
       "    </tr>\n",
       "  </tbody>\n",
       "</table>"
      ],
      "text/plain": [
       "<IPython.core.display.HTML object>"
      ]
     },
     "metadata": {},
     "output_type": "display_data"
    }
   ],
   "source": [
    "# Display the review from customer 15\n",
    "display(HTML((review_data\n",
    " .query('customer == 15')\n",
    " .to_html())))"
   ]
  },
  {
   "cell_type": "markdown",
   "metadata": {},
   "source": [
    "**Question**: How can you act on customer-specific sentiment analysis results?\n",
    "\n",
    "# Summary\n",
    "\n",
    "You have reached the end of the session. Well done! \n",
    "\n",
    "Social listening is becoming imperative for firms to engage with customers across social media channels. By tracking text data on product reviews, and mentions and conversations in social media platforms, brands can gain significant insights into consumer behaviour and act quickly in the marketplace. Individual-specific automated sentiment analysis allows product managers to offer personalized commmunication and solution to their customers. In this workshop, we have learned how to execute the sentiment anlaysis and visualize sentiments through bar charts and wordclouds. The tools we learned here can be applied to different kinds of products and text data. \n",
    "\n",
    "I hope you will have a chance to bring some of these analytical approaches to your organization and create impact with analytics. I wish you the best of luck with your efforts! \n",
    "\n",
    "# Additional Resources\n",
    "If you want to explore some more resources about social listening and sentiment analysis, visit the resources listed below:  \n",
    "\n",
    "[Arnold, Taylor B. 2016. cleanNLP: A Tidy Data Model for Natural Language Processing](https://cran.r-project.org/package=cleanNLP)\n",
    "\n",
    "[Arnold, Taylor, and Lauren Tilton. 2016. coreNLP: Wrappers Around Stanford Corenlp Tools](https://cran.r-project.org/package=coreNLP).\n",
    "\n",
    "[Rinker, Tyler W. 2017. sentimentr: Calculate Text Polarity Sentiment. Buffalo, New York: University at Buffalo/SUNY](http://github.com/trinker/sentimentr)\n",
    "\n",
    "<https://www.tidytextmining.com/sentiment.html>\n",
    "\n",
    "[Lexicon from Bing Liu and collaborators](https://www.cs.uic.edu/~liub/FBS/sentiment-analysis.html)\n",
    "\n",
    "[AFINN Lexicon](http://www2.imm.dtu.dk/pubdb/pubs/6010-full.html); assigns a score (from -5 to 5) to each word used in the text and indicates the degree of negativity and positivity in the sentiment  \n",
    "\n",
    "[nrc Lexicon](http://saifmohammad.com/WebPages/NRC-Emotion-Lexicon.htm); classifies the sentiment as negative, positive and also a variety of other emotions such as fear, joy, and sadness  "
   ]
  }
 ],
 "metadata": {
  "kernelspec": {
   "display_name": "Python 3",
   "language": "python",
   "name": "python3"
  },
  "language_info": {
   "codemirror_mode": {
    "name": "ipython",
    "version": 3
   },
   "file_extension": ".py",
   "mimetype": "text/x-python",
   "name": "python",
   "nbconvert_exporter": "python",
   "pygments_lexer": "ipython3",
   "version": "3.8.3"
  }
 },
 "nbformat": 4,
 "nbformat_minor": 2
}
